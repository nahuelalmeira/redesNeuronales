{
 "cells": [
  {
   "cell_type": "code",
   "execution_count": 20,
   "metadata": {
    "colab": {
     "base_uri": "https://localhost:8080/"
    },
    "executionInfo": {
     "elapsed": 677,
     "status": "ok",
     "timestamp": 1602081597216,
     "user": {
      "displayName": "JUAN IGNACIO PORTA",
      "photoUrl": "",
      "userId": "13764368640408158815"
     },
     "user_tz": 180
    },
    "id": "MNa-D7MeeyD5",
    "outputId": "5600f15a-2f68-41bc-a806-7b5247c42f21"
   },
   "outputs": [
    {
     "name": "stdout",
     "output_type": "stream",
     "text": [
      "Drive already mounted at /mnist; to attempt to forcibly remount, call drive.mount(\"/mnist\", force_remount=True).\n"
     ]
    }
   ],
   "source": [
    "from google.colab import drive\n",
    "drive.mount('/mnist')"
   ]
  },
  {
   "cell_type": "code",
   "execution_count": 1,
   "metadata": {
    "executionInfo": {
     "elapsed": 631,
     "status": "ok",
     "timestamp": 1602081599149,
     "user": {
      "displayName": "JUAN IGNACIO PORTA",
      "photoUrl": "",
      "userId": "13764368640408158815"
     },
     "user_tz": 180
    },
    "id": "nhXQ-g_VeOPx"
   },
   "outputs": [],
   "source": [
    "import pandas as pd\n",
    "import numpy as np\n",
    "import matplotlib.pyplot as plt\n",
    "import torch\n",
    "import torchvision\n",
    "import torchvision.datasets as datasets\n",
    "from torch import nn\n",
    "\n",
    "## Set random seed for reproducibility\n",
    "random_seed = 1\n",
    "torch.manual_seed(random_seed)"
   ]
  },
  {
   "cell_type": "code",
   "execution_count": 2,
   "metadata": {
    "executionInfo": {
     "elapsed": 715,
     "status": "ok",
     "timestamp": 1602081599746,
     "user": {
      "displayName": "JUAN IGNACIO PORTA",
      "photoUrl": "",
      "userId": "13764368640408158815"
     },
     "user_tz": 180
    },
    "id": "4i5ChPGfeOP8"
   },
   "outputs": [
    {
     "name": "stdout",
     "output_type": "stream",
     "text": [
      "Downloading http://yann.lecun.com/exdb/mnist/train-images-idx3-ubyte.gz to ./data/MNIST/raw/train-images-idx3-ubyte.gz\n"
     ]
    },
    {
     "data": {
      "application/vnd.jupyter.widget-view+json": {
       "model_id": "3db45bedcc424af3a19fd6ea4f50e8cd",
       "version_major": 2,
       "version_minor": 0
      },
      "text/plain": [
       "HBox(children=(FloatProgress(value=1.0, bar_style='info', max=1.0), HTML(value='')))"
      ]
     },
     "metadata": {},
     "output_type": "display_data"
    },
    {
     "name": "stdout",
     "output_type": "stream",
     "text": [
      "Extracting ./data/MNIST/raw/train-images-idx3-ubyte.gz to ./data/MNIST/raw\n",
      "Downloading http://yann.lecun.com/exdb/mnist/train-labels-idx1-ubyte.gz to ./data/MNIST/raw/train-labels-idx1-ubyte.gz\n"
     ]
    },
    {
     "data": {
      "application/vnd.jupyter.widget-view+json": {
       "model_id": "f285d4f5b5ba4ad08aad506aa1e7afef",
       "version_major": 2,
       "version_minor": 0
      },
      "text/plain": [
       "HBox(children=(FloatProgress(value=1.0, bar_style='info', max=1.0), HTML(value='')))"
      ]
     },
     "metadata": {},
     "output_type": "display_data"
    },
    {
     "name": "stdout",
     "output_type": "stream",
     "text": [
      "Extracting ./data/MNIST/raw/train-labels-idx1-ubyte.gz to ./data/MNIST/raw\n",
      "Downloading http://yann.lecun.com/exdb/mnist/t10k-images-idx3-ubyte.gz to ./data/MNIST/raw/t10k-images-idx3-ubyte.gz\n"
     ]
    },
    {
     "data": {
      "application/vnd.jupyter.widget-view+json": {
       "model_id": "dbba5762c7de406582ea3fed55637eb6",
       "version_major": 2,
       "version_minor": 0
      },
      "text/plain": [
       "HBox(children=(FloatProgress(value=1.0, bar_style='info', max=1.0), HTML(value='')))"
      ]
     },
     "metadata": {},
     "output_type": "display_data"
    },
    {
     "name": "stdout",
     "output_type": "stream",
     "text": [
      "Extracting ./data/MNIST/raw/t10k-images-idx3-ubyte.gz to ./data/MNIST/raw\n",
      "Downloading http://yann.lecun.com/exdb/mnist/t10k-labels-idx1-ubyte.gz to ./data/MNIST/raw/t10k-labels-idx1-ubyte.gz\n",
      "\n",
      "\n"
     ]
    },
    {
     "data": {
      "application/vnd.jupyter.widget-view+json": {
       "model_id": "2bb58b1905b344df8ca132e131904eb1",
       "version_major": 2,
       "version_minor": 0
      },
      "text/plain": [
       "HBox(children=(FloatProgress(value=1.0, bar_style='info', max=1.0), HTML(value='')))"
      ]
     },
     "metadata": {},
     "output_type": "display_data"
    },
    {
     "name": "stdout",
     "output_type": "stream",
     "text": [
      "Extracting ./data/MNIST/raw/t10k-labels-idx1-ubyte.gz to ./data/MNIST/raw\n",
      "Processing...\n"
     ]
    },
    {
     "name": "stderr",
     "output_type": "stream",
     "text": [
      "/home/nahuel/anaconda3/envs/redes/lib/python3.8/site-packages/torchvision/datasets/mnist.py:469: UserWarning: The given NumPy array is not writeable, and PyTorch does not support non-writeable tensors. This means you can write to the underlying (supposedly non-writeable) NumPy array using the tensor. You may want to copy the array to protect its data or make it writeable before converting it to a tensor. This type of warning will be suppressed for the rest of this program. (Triggered internally at  /opt/conda/conda-bld/pytorch_1595629434582/work/torch/csrc/utils/tensor_numpy.cpp:141.)\n",
      "  return torch.from_numpy(parsed.astype(m[2], copy=False)).view(*s)\n"
     ]
    },
    {
     "name": "stdout",
     "output_type": "stream",
     "text": [
      "Done!\n"
     ]
    }
   ],
   "source": [
    "mnist_data = datasets.MNIST(\n",
    "    './data', train=True, download=True,\n",
    "    transform=torchvision.transforms.Compose([\n",
    "        torchvision.transforms.ToTensor(),\n",
    "        torchvision.transforms.Normalize((0.1307,), (0.3081,))\n",
    "    ])\n",
    ")"
   ]
  },
  {
   "cell_type": "code",
   "execution_count": 10,
   "metadata": {},
   "outputs": [],
   "source": [
    "def display_digit(digit):\n",
    "    plt.imshow(digit[0].numpy().squeeze(), cmap='gray')"
   ]
  },
  {
   "cell_type": "code",
   "execution_count": 11,
   "metadata": {
    "colab": {
     "base_uri": "https://localhost:8080/",
     "height": 282
    },
    "executionInfo": {
     "elapsed": 681,
     "status": "ok",
     "timestamp": 1602081603602,
     "user": {
      "displayName": "JUAN IGNACIO PORTA",
      "photoUrl": "",
      "userId": "13764368640408158815"
     },
     "user_tz": 180
    },
    "id": "KUpnrx6KeOQI",
    "outputId": "de490532-df8c-4d73-a250-b1ac6ddc913d"
   },
   "outputs": [
    {
     "data": {
      "image/png": "[encoded data removed]",
      "text/plain": [
       "<Figure size 432x288 with 1 Axes>"
      ]
     },
     "metadata": {
      "needs_background": "light"
     },
     "output_type": "display_data"
    }
   ],
   "source": [
    "display_digit(mnist_data[0])"
   ]
  },
  {
   "cell_type": "code",
   "execution_count": 12,
   "metadata": {
    "executionInfo": {
     "elapsed": 734,
     "status": "ok",
     "timestamp": 1602081605528,
     "user": {
      "displayName": "JUAN IGNACIO PORTA",
      "photoUrl": "",
      "userId": "13764368640408158815"
     },
     "user_tz": 180
    },
    "id": "8eqiCwGmeOQP"
   },
   "outputs": [],
   "source": [
    "mnist_test = datasets.MNIST(\n",
    "    './data', train=False, download=True,\n",
    "    transform=torchvision.transforms.Compose([\n",
    "        torchvision.transforms.ToTensor(),\n",
    "        torchvision.transforms.Normalize((0.1307,), (0.3081,))\n",
    "    ])\n",
    ")"
   ]
  },
  {
   "cell_type": "code",
   "execution_count": 13,
   "metadata": {
    "colab": {
     "base_uri": "https://localhost:8080/",
     "height": 282
    },
    "executionInfo": {
     "elapsed": 670,
     "status": "ok",
     "timestamp": 1602081608177,
     "user": {
      "displayName": "JUAN IGNACIO PORTA",
      "photoUrl": "",
      "userId": "13764368640408158815"
     },
     "user_tz": 180
    },
    "id": "2vYjoT1QeOQV",
    "outputId": "5b6ba872-8bf8-47f2-bd95-e9f8a2521a76"
   },
   "outputs": [
    {
     "data": {
      "image/png": "[encoded data removed]",
      "text/plain": [
       "<Figure size 432x288 with 1 Axes>"
      ]
     },
     "metadata": {
      "needs_background": "light"
     },
     "output_type": "display_data"
    }
   ],
   "source": [
    "display_digit(mnist_test[0])"
   ]
  },
  {
   "cell_type": "code",
   "execution_count": 46,
   "metadata": {},
   "outputs": [
    {
     "data": {
      "text/plain": [
       "60000"
      ]
     },
     "execution_count": 46,
     "metadata": {},
     "output_type": "execute_result"
    }
   ],
   "source": [
    "mnist_data.data.size()[0]"
   ]
  },
  {
   "cell_type": "code",
   "execution_count": 54,
   "metadata": {
    "colab": {
     "base_uri": "https://localhost:8080/"
    },
    "executionInfo": {
     "elapsed": 521,
     "status": "ok",
     "timestamp": 1602081609375,
     "user": {
      "displayName": "JUAN IGNACIO PORTA",
      "photoUrl": "",
      "userId": "13764368640408158815"
     },
     "user_tz": 180
    },
    "id": "L9flaF06eOQb",
    "outputId": "9b530505-1bf0-4542-eeeb-0db9be95984e"
   },
   "outputs": [
    {
     "data": {
      "text/plain": [
       "93"
      ]
     },
     "execution_count": 54,
     "metadata": {},
     "output_type": "execute_result"
    }
   ],
   "source": [
    "train_data_len = mnist_data.data.size()[0]\n",
    "test_data_len  = mnist_test.data.size()[0]\n",
    "\n",
    "n_epochs = 3\n",
    "batch_size_train = 64\n",
    "batch_size_test = 1000\n",
    "learning_rate = 0.01\n",
    "momentum = 0.5\n",
    "log_interval = 10\n",
    "\n",
    "n_batch_train = train_data_len // (batch_size_train*log_interval)\n",
    "n_batch_test = test_data_len // (batch_size_test*log_interval)\n",
    "n_batch_train"
   ]
  },
  {
   "cell_type": "code",
   "execution_count": 15,
   "metadata": {
    "executionInfo": {
     "elapsed": 738,
     "status": "ok",
     "timestamp": 1602081610337,
     "user": {
      "displayName": "JUAN IGNACIO PORTA",
      "photoUrl": "",
      "userId": "13764368640408158815"
     },
     "user_tz": 180
    },
    "id": "q-_mOs6SeOQh"
   },
   "outputs": [],
   "source": [
    "train_loader = torch.utils.data.DataLoader(mnist_data, batch_size=batch_size_train, shuffle=True)\n",
    "test_loader  = torch.utils.data.DataLoader(mnist_test, batch_size=batch_size_test)"
   ]
  },
  {
   "cell_type": "code",
   "execution_count": 21,
   "metadata": {
    "executionInfo": {
     "elapsed": 716,
     "status": "ok",
     "timestamp": 1602081611538,
     "user": {
      "displayName": "JUAN IGNACIO PORTA",
      "photoUrl": "",
      "userId": "13764368640408158815"
     },
     "user_tz": 180
    },
    "id": "zryE0WpqeOQm"
   },
   "outputs": [],
   "source": [
    "class Flatten(nn.Module):\n",
    "    def forward(self, input):\n",
    "        return input.view(input.size(0), -1)"
   ]
  },
  {
   "cell_type": "code",
   "execution_count": 22,
   "metadata": {
    "executionInfo": {
     "elapsed": 730,
     "status": "ok",
     "timestamp": 1602081612317,
     "user": {
      "displayName": "JUAN IGNACIO PORTA",
      "photoUrl": "",
      "userId": "13764368640408158815"
     },
     "user_tz": 180
    },
    "id": "XQGsuT-AeOQq"
   },
   "outputs": [],
   "source": [
    "class net(nn.Module):\n",
    "    def __init__(self):\n",
    "        super(net, self).__init__()\n",
    "        self.linear1 = nn.Linear(784, 100)\n",
    "        self.linear2 = nn.Linear(100, 20)\n",
    "        self.linear3 = nn.Linear(20,10)\n",
    "        self.relu = nn.ReLU()\n",
    "        self.flatten = Flatten()\n",
    "        \n",
    "    def forward(self, x):\n",
    "        x = self.flatten(x)\n",
    "        x = self.linear1(x)\n",
    "        x = self.relu(x)\n",
    "        x = self.linear2(x)\n",
    "        x = self.relu(x)\n",
    "        x = self.linear3(x)\n",
    "        return x"
   ]
  },
  {
   "cell_type": "code",
   "execution_count": 24,
   "metadata": {
    "executionInfo": {
     "elapsed": 743,
     "status": "ok",
     "timestamp": 1602081613883,
     "user": {
      "displayName": "JUAN IGNACIO PORTA",
      "photoUrl": "",
      "userId": "13764368640408158815"
     },
     "user_tz": 180
    },
    "id": "NW2n2iMaeOQw"
   },
   "outputs": [],
   "source": [
    "network = net()\n",
    "optimizer = torch.optim.SGD(\n",
    "    network.parameters(), \n",
    "    lr=learning_rate,\n",
    "    momentum=momentum\n",
    ")"
   ]
  },
  {
   "cell_type": "code",
   "execution_count": 85,
   "metadata": {
    "executionInfo": {
     "elapsed": 721,
     "status": "ok",
     "timestamp": 1602081615152,
     "user": {
      "displayName": "JUAN IGNACIO PORTA",
      "photoUrl": "",
      "userId": "13764368640408158815"
     },
     "user_tz": 180
    },
    "id": "LV6GccJ4eOQ0"
   },
   "outputs": [],
   "source": [
    "train_losses = []\n",
    "train_counter = []\n",
    "test_losses = []\n",
    "test_counter = [i*len(train_loader.dataset) for i in range(n_epochs+1)]"
   ]
  },
  {
   "cell_type": "code",
   "execution_count": 86,
   "metadata": {
    "executionInfo": {
     "elapsed": 652,
     "status": "ok",
     "timestamp": 1602081726697,
     "user": {
      "displayName": "JUAN IGNACIO PORTA",
      "photoUrl": "",
      "userId": "13764368640408158815"
     },
     "user_tz": 180
    },
    "id": "dAq7dNMIeOQ5"
   },
   "outputs": [],
   "source": [
    "def train(epoch):\n",
    "    network.train()\n",
    "    crossent = nn.CrossEntropyLoss()\n",
    "    for batch_idx, (data, target) in enumerate(train_loader):\n",
    "        optimizer.zero_grad()\n",
    "        output = network(data)\n",
    "        loss = crossent(output, target)\n",
    "        loss.backward()\n",
    "        optimizer.step()\n",
    "        avg_batch_loss = loss.item() / len(data)\n",
    "        if batch_idx % log_interval == 0:\n",
    "            print('Train Epoch: {} - Batch {} [{}/{} ({:.0f}%)]\\tLoss: {:.6f}'.format(\n",
    "                epoch, batch_idx,\n",
    "                batch_idx*len(data), \n",
    "                len(train_loader.dataset),\n",
    "                100.*batch_idx / len(train_loader), \n",
    "                #loss.item()\n",
    "                avg_batch_loss\n",
    "            ))\n",
    "        #train_losses.append(loss.item())\n",
    "        train_losses.append(avg_batch_loss)\n",
    "        train_counter.append(\n",
    "            (batch_idx*batch_size_train) + ((epoch-1)*len(train_loader.dataset))\n",
    "        )"
   ]
  },
  {
   "cell_type": "code",
   "execution_count": 93,
   "metadata": {
    "executionInfo": {
     "elapsed": 487,
     "status": "ok",
     "timestamp": 1602081727022,
     "user": {
      "displayName": "JUAN IGNACIO PORTA",
      "photoUrl": "",
      "userId": "13764368640408158815"
     },
     "user_tz": 180
    },
    "id": "1XK7vP7leOQ9"
   },
   "outputs": [],
   "source": [
    "def test():\n",
    "    crossent = nn.CrossEntropyLoss()\n",
    "    network.eval()\n",
    "    test_loss = 0\n",
    "    correct = 0\n",
    "    with torch.no_grad():\n",
    "        for data, target in test_loader:\n",
    "            output = network(data)\n",
    "            loss = crossent(output, target).item()\n",
    "            test_loss += loss\n",
    "            avg_batch_loss = loss / len(data)\n",
    "            pred = output.data.max(1, keepdim=True)[1]\n",
    "            correct += pred.eq(target.data.view_as(pred)).sum()\n",
    "            #test_loss /= len(test_loader.dataset)\n",
    "            test_losses.append(avg_batch_loss)\n",
    "    print('\\nTest set: Avg. loss: {:.6f}, Accuracy: {}/{} ({:.0f}%)\\n'.format(\n",
    "        test_loss/len(test_loader.dataset), correct, len(test_loader.dataset),\n",
    "        100.*correct / len(test_loader.dataset))) ## TODO: Por que 100. y no 100?"
   ]
  },
  {
   "cell_type": "code",
   "execution_count": 96,
   "metadata": {
    "colab": {
     "base_uri": "https://localhost:8080/"
    },
    "executionInfo": {
     "elapsed": 48930,
     "status": "ok",
     "timestamp": 1602081779203,
     "user": {
      "displayName": "JUAN IGNACIO PORTA",
      "photoUrl": "",
      "userId": "13764368640408158815"
     },
     "user_tz": 180
    },
    "id": "fYrRLjD2eORH",
    "outputId": "2beaf025-2324-4603-b0e2-fc7b6de33e76"
   },
   "outputs": [
    {
     "name": "stdout",
     "output_type": "stream",
     "text": [
      "\n",
      "Test set: Avg. loss: 0.000082, Accuracy: 9762/10000 (98%)\n",
      "\n",
      "Train Epoch: 1 - Batch 0 [0/60000 (0%)]\tLoss: 0.000078\n",
      "Train Epoch: 1 - Batch 10 [640/60000 (1%)]\tLoss: 0.000272\n",
      "Train Epoch: 1 - Batch 20 [1280/60000 (2%)]\tLoss: 0.000522\n",
      "Train Epoch: 1 - Batch 30 [1920/60000 (3%)]\tLoss: 0.000175\n",
      "Train Epoch: 1 - Batch 40 [2560/60000 (4%)]\tLoss: 0.000231\n",
      "Train Epoch: 1 - Batch 50 [3200/60000 (5%)]\tLoss: 0.000632\n",
      "Train Epoch: 1 - Batch 60 [3840/60000 (6%)]\tLoss: 0.000478\n",
      "Train Epoch: 1 - Batch 70 [4480/60000 (7%)]\tLoss: 0.000093\n",
      "Train Epoch: 1 - Batch 80 [5120/60000 (9%)]\tLoss: 0.000381\n",
      "Train Epoch: 1 - Batch 90 [5760/60000 (10%)]\tLoss: 0.000836\n",
      "Train Epoch: 1 - Batch 100 [6400/60000 (11%)]\tLoss: 0.000153\n",
      "Train Epoch: 1 - Batch 110 [7040/60000 (12%)]\tLoss: 0.000215\n",
      "Train Epoch: 1 - Batch 120 [7680/60000 (13%)]\tLoss: 0.000294\n",
      "Train Epoch: 1 - Batch 130 [8320/60000 (14%)]\tLoss: 0.000135\n",
      "Train Epoch: 1 - Batch 140 [8960/60000 (15%)]\tLoss: 0.000408\n",
      "Train Epoch: 1 - Batch 150 [9600/60000 (16%)]\tLoss: 0.000243\n",
      "Train Epoch: 1 - Batch 160 [10240/60000 (17%)]\tLoss: 0.000126\n",
      "Train Epoch: 1 - Batch 170 [10880/60000 (18%)]\tLoss: 0.000393\n",
      "Train Epoch: 1 - Batch 180 [11520/60000 (19%)]\tLoss: 0.000108\n",
      "Train Epoch: 1 - Batch 190 [12160/60000 (20%)]\tLoss: 0.000265\n",
      "Train Epoch: 1 - Batch 200 [12800/60000 (21%)]\tLoss: 0.000534\n",
      "Train Epoch: 1 - Batch 210 [13440/60000 (22%)]\tLoss: 0.000455\n",
      "Train Epoch: 1 - Batch 220 [14080/60000 (23%)]\tLoss: 0.002093\n",
      "Train Epoch: 1 - Batch 230 [14720/60000 (25%)]\tLoss: 0.000185\n",
      "Train Epoch: 1 - Batch 240 [15360/60000 (26%)]\tLoss: 0.000173\n",
      "Train Epoch: 1 - Batch 250 [16000/60000 (27%)]\tLoss: 0.001825\n",
      "Train Epoch: 1 - Batch 260 [16640/60000 (28%)]\tLoss: 0.000207\n",
      "Train Epoch: 1 - Batch 270 [17280/60000 (29%)]\tLoss: 0.000187\n",
      "Train Epoch: 1 - Batch 280 [17920/60000 (30%)]\tLoss: 0.000585\n",
      "Train Epoch: 1 - Batch 290 [18560/60000 (31%)]\tLoss: 0.000185\n",
      "Train Epoch: 1 - Batch 300 [19200/60000 (32%)]\tLoss: 0.000602\n",
      "Train Epoch: 1 - Batch 310 [19840/60000 (33%)]\tLoss: 0.000611\n",
      "Train Epoch: 1 - Batch 320 [20480/60000 (34%)]\tLoss: 0.000276\n",
      "Train Epoch: 1 - Batch 330 [21120/60000 (35%)]\tLoss: 0.000185\n",
      "Train Epoch: 1 - Batch 340 [21760/60000 (36%)]\tLoss: 0.000513\n",
      "Train Epoch: 1 - Batch 350 [22400/60000 (37%)]\tLoss: 0.000217\n",
      "Train Epoch: 1 - Batch 360 [23040/60000 (38%)]\tLoss: 0.000228\n",
      "Train Epoch: 1 - Batch 370 [23680/60000 (39%)]\tLoss: 0.000224\n",
      "Train Epoch: 1 - Batch 380 [24320/60000 (41%)]\tLoss: 0.000150\n",
      "Train Epoch: 1 - Batch 390 [24960/60000 (42%)]\tLoss: 0.000196\n",
      "Train Epoch: 1 - Batch 400 [25600/60000 (43%)]\tLoss: 0.000153\n",
      "Train Epoch: 1 - Batch 410 [26240/60000 (44%)]\tLoss: 0.000187\n",
      "Train Epoch: 1 - Batch 420 [26880/60000 (45%)]\tLoss: 0.000060\n",
      "Train Epoch: 1 - Batch 430 [27520/60000 (46%)]\tLoss: 0.000028\n",
      "Train Epoch: 1 - Batch 440 [28160/60000 (47%)]\tLoss: 0.000161\n",
      "Train Epoch: 1 - Batch 450 [28800/60000 (48%)]\tLoss: 0.000259\n",
      "Train Epoch: 1 - Batch 460 [29440/60000 (49%)]\tLoss: 0.000343\n",
      "Train Epoch: 1 - Batch 470 [30080/60000 (50%)]\tLoss: 0.000270\n",
      "Train Epoch: 1 - Batch 480 [30720/60000 (51%)]\tLoss: 0.000180\n",
      "Train Epoch: 1 - Batch 490 [31360/60000 (52%)]\tLoss: 0.000759\n",
      "Train Epoch: 1 - Batch 500 [32000/60000 (53%)]\tLoss: 0.001124\n",
      "Train Epoch: 1 - Batch 510 [32640/60000 (54%)]\tLoss: 0.000507\n",
      "Train Epoch: 1 - Batch 520 [33280/60000 (55%)]\tLoss: 0.000182\n",
      "Train Epoch: 1 - Batch 530 [33920/60000 (57%)]\tLoss: 0.000857\n",
      "Train Epoch: 1 - Batch 540 [34560/60000 (58%)]\tLoss: 0.000132\n",
      "Train Epoch: 1 - Batch 550 [35200/60000 (59%)]\tLoss: 0.001101\n",
      "Train Epoch: 1 - Batch 560 [35840/60000 (60%)]\tLoss: 0.000320\n",
      "Train Epoch: 1 - Batch 570 [36480/60000 (61%)]\tLoss: 0.000266\n",
      "Train Epoch: 1 - Batch 580 [37120/60000 (62%)]\tLoss: 0.000197\n",
      "Train Epoch: 1 - Batch 590 [37760/60000 (63%)]\tLoss: 0.001938\n",
      "Train Epoch: 1 - Batch 600 [38400/60000 (64%)]\tLoss: 0.000344\n",
      "Train Epoch: 1 - Batch 610 [39040/60000 (65%)]\tLoss: 0.000132\n",
      "Train Epoch: 1 - Batch 620 [39680/60000 (66%)]\tLoss: 0.002487\n",
      "Train Epoch: 1 - Batch 630 [40320/60000 (67%)]\tLoss: 0.000485\n",
      "Train Epoch: 1 - Batch 640 [40960/60000 (68%)]\tLoss: 0.000283\n",
      "Train Epoch: 1 - Batch 650 [41600/60000 (69%)]\tLoss: 0.000383\n",
      "Train Epoch: 1 - Batch 660 [42240/60000 (70%)]\tLoss: 0.000357\n",
      "Train Epoch: 1 - Batch 670 [42880/60000 (71%)]\tLoss: 0.000300\n",
      "Train Epoch: 1 - Batch 680 [43520/60000 (72%)]\tLoss: 0.000105\n",
      "Train Epoch: 1 - Batch 690 [44160/60000 (74%)]\tLoss: 0.000349\n",
      "Train Epoch: 1 - Batch 700 [44800/60000 (75%)]\tLoss: 0.000495\n",
      "Train Epoch: 1 - Batch 710 [45440/60000 (76%)]\tLoss: 0.000227\n",
      "Train Epoch: 1 - Batch 720 [46080/60000 (77%)]\tLoss: 0.000241\n",
      "Train Epoch: 1 - Batch 730 [46720/60000 (78%)]\tLoss: 0.000020\n",
      "Train Epoch: 1 - Batch 740 [47360/60000 (79%)]\tLoss: 0.000530\n",
      "Train Epoch: 1 - Batch 750 [48000/60000 (80%)]\tLoss: 0.000297\n",
      "Train Epoch: 1 - Batch 760 [48640/60000 (81%)]\tLoss: 0.002940\n",
      "Train Epoch: 1 - Batch 770 [49280/60000 (82%)]\tLoss: 0.000185\n",
      "Train Epoch: 1 - Batch 780 [49920/60000 (83%)]\tLoss: 0.000052\n",
      "Train Epoch: 1 - Batch 790 [50560/60000 (84%)]\tLoss: 0.000338\n",
      "Train Epoch: 1 - Batch 800 [51200/60000 (85%)]\tLoss: 0.000232\n",
      "Train Epoch: 1 - Batch 810 [51840/60000 (86%)]\tLoss: 0.000291\n",
      "Train Epoch: 1 - Batch 820 [52480/60000 (87%)]\tLoss: 0.000146\n",
      "Train Epoch: 1 - Batch 830 [53120/60000 (88%)]\tLoss: 0.000297\n",
      "Train Epoch: 1 - Batch 840 [53760/60000 (90%)]\tLoss: 0.000233\n",
      "Train Epoch: 1 - Batch 850 [54400/60000 (91%)]\tLoss: 0.000093\n",
      "Train Epoch: 1 - Batch 860 [55040/60000 (92%)]\tLoss: 0.000486\n",
      "Train Epoch: 1 - Batch 870 [55680/60000 (93%)]\tLoss: 0.000359\n",
      "Train Epoch: 1 - Batch 880 [56320/60000 (94%)]\tLoss: 0.000241\n",
      "Train Epoch: 1 - Batch 890 [56960/60000 (95%)]\tLoss: 0.000104\n",
      "Train Epoch: 1 - Batch 900 [57600/60000 (96%)]\tLoss: 0.000972\n",
      "Train Epoch: 1 - Batch 910 [58240/60000 (97%)]\tLoss: 0.000170\n",
      "Train Epoch: 1 - Batch 920 [58880/60000 (98%)]\tLoss: 0.000192\n",
      "Train Epoch: 1 - Batch 930 [59520/60000 (99%)]\tLoss: 0.000457\n",
      "\n",
      "Test set: Avg. loss: 0.000079, Accuracy: 9767/10000 (98%)\n",
      "\n",
      "Train Epoch: 2 - Batch 0 [0/60000 (0%)]\tLoss: 0.000172\n",
      "Train Epoch: 2 - Batch 10 [640/60000 (1%)]\tLoss: 0.000069\n",
      "Train Epoch: 2 - Batch 20 [1280/60000 (2%)]\tLoss: 0.000238\n",
      "Train Epoch: 2 - Batch 30 [1920/60000 (3%)]\tLoss: 0.000356\n",
      "Train Epoch: 2 - Batch 40 [2560/60000 (4%)]\tLoss: 0.000491\n",
      "Train Epoch: 2 - Batch 50 [3200/60000 (5%)]\tLoss: 0.000264\n",
      "Train Epoch: 2 - Batch 60 [3840/60000 (6%)]\tLoss: 0.000147\n",
      "Train Epoch: 2 - Batch 70 [4480/60000 (7%)]\tLoss: 0.000170\n",
      "Train Epoch: 2 - Batch 80 [5120/60000 (9%)]\tLoss: 0.000747\n",
      "Train Epoch: 2 - Batch 90 [5760/60000 (10%)]\tLoss: 0.000354\n",
      "Train Epoch: 2 - Batch 100 [6400/60000 (11%)]\tLoss: 0.000253\n",
      "Train Epoch: 2 - Batch 110 [7040/60000 (12%)]\tLoss: 0.000098\n",
      "Train Epoch: 2 - Batch 120 [7680/60000 (13%)]\tLoss: 0.000145\n",
      "Train Epoch: 2 - Batch 130 [8320/60000 (14%)]\tLoss: 0.000204\n",
      "Train Epoch: 2 - Batch 140 [8960/60000 (15%)]\tLoss: 0.000185\n",
      "Train Epoch: 2 - Batch 150 [9600/60000 (16%)]\tLoss: 0.000239\n",
      "Train Epoch: 2 - Batch 160 [10240/60000 (17%)]\tLoss: 0.000097\n",
      "Train Epoch: 2 - Batch 170 [10880/60000 (18%)]\tLoss: 0.000204\n",
      "Train Epoch: 2 - Batch 180 [11520/60000 (19%)]\tLoss: 0.000202\n",
      "Train Epoch: 2 - Batch 190 [12160/60000 (20%)]\tLoss: 0.000259\n",
      "Train Epoch: 2 - Batch 200 [12800/60000 (21%)]\tLoss: 0.000282\n",
      "Train Epoch: 2 - Batch 210 [13440/60000 (22%)]\tLoss: 0.000164\n",
      "Train Epoch: 2 - Batch 220 [14080/60000 (23%)]\tLoss: 0.000449\n",
      "Train Epoch: 2 - Batch 230 [14720/60000 (25%)]\tLoss: 0.000952\n",
      "Train Epoch: 2 - Batch 240 [15360/60000 (26%)]\tLoss: 0.000211\n",
      "Train Epoch: 2 - Batch 250 [16000/60000 (27%)]\tLoss: 0.000382\n",
      "Train Epoch: 2 - Batch 260 [16640/60000 (28%)]\tLoss: 0.000092\n",
      "Train Epoch: 2 - Batch 270 [17280/60000 (29%)]\tLoss: 0.000131\n",
      "Train Epoch: 2 - Batch 280 [17920/60000 (30%)]\tLoss: 0.000076\n",
      "Train Epoch: 2 - Batch 290 [18560/60000 (31%)]\tLoss: 0.000145\n",
      "Train Epoch: 2 - Batch 300 [19200/60000 (32%)]\tLoss: 0.000192\n",
      "Train Epoch: 2 - Batch 310 [19840/60000 (33%)]\tLoss: 0.000116\n",
      "Train Epoch: 2 - Batch 320 [20480/60000 (34%)]\tLoss: 0.000612\n",
      "Train Epoch: 2 - Batch 330 [21120/60000 (35%)]\tLoss: 0.000106\n",
      "Train Epoch: 2 - Batch 340 [21760/60000 (36%)]\tLoss: 0.000993\n",
      "Train Epoch: 2 - Batch 350 [22400/60000 (37%)]\tLoss: 0.000217\n",
      "Train Epoch: 2 - Batch 360 [23040/60000 (38%)]\tLoss: 0.000283\n",
      "Train Epoch: 2 - Batch 370 [23680/60000 (39%)]\tLoss: 0.000347\n",
      "Train Epoch: 2 - Batch 380 [24320/60000 (41%)]\tLoss: 0.000603\n",
      "Train Epoch: 2 - Batch 390 [24960/60000 (42%)]\tLoss: 0.000404\n",
      "Train Epoch: 2 - Batch 400 [25600/60000 (43%)]\tLoss: 0.000162\n",
      "Train Epoch: 2 - Batch 410 [26240/60000 (44%)]\tLoss: 0.000129\n",
      "Train Epoch: 2 - Batch 420 [26880/60000 (45%)]\tLoss: 0.000828\n",
      "Train Epoch: 2 - Batch 430 [27520/60000 (46%)]\tLoss: 0.000299\n",
      "Train Epoch: 2 - Batch 440 [28160/60000 (47%)]\tLoss: 0.000190\n",
      "Train Epoch: 2 - Batch 450 [28800/60000 (48%)]\tLoss: 0.000440\n",
      "Train Epoch: 2 - Batch 460 [29440/60000 (49%)]\tLoss: 0.000179\n",
      "Train Epoch: 2 - Batch 470 [30080/60000 (50%)]\tLoss: 0.000101\n",
      "Train Epoch: 2 - Batch 480 [30720/60000 (51%)]\tLoss: 0.000502\n",
      "Train Epoch: 2 - Batch 490 [31360/60000 (52%)]\tLoss: 0.000324\n",
      "Train Epoch: 2 - Batch 500 [32000/60000 (53%)]\tLoss: 0.000370\n",
      "Train Epoch: 2 - Batch 510 [32640/60000 (54%)]\tLoss: 0.000525\n",
      "Train Epoch: 2 - Batch 520 [33280/60000 (55%)]\tLoss: 0.000310\n",
      "Train Epoch: 2 - Batch 530 [33920/60000 (57%)]\tLoss: 0.000899\n",
      "Train Epoch: 2 - Batch 540 [34560/60000 (58%)]\tLoss: 0.000428\n",
      "Train Epoch: 2 - Batch 550 [35200/60000 (59%)]\tLoss: 0.000175\n",
      "Train Epoch: 2 - Batch 560 [35840/60000 (60%)]\tLoss: 0.000201\n",
      "Train Epoch: 2 - Batch 570 [36480/60000 (61%)]\tLoss: 0.000477\n",
      "Train Epoch: 2 - Batch 580 [37120/60000 (62%)]\tLoss: 0.000308\n",
      "Train Epoch: 2 - Batch 590 [37760/60000 (63%)]\tLoss: 0.000810\n",
      "Train Epoch: 2 - Batch 600 [38400/60000 (64%)]\tLoss: 0.001243\n",
      "Train Epoch: 2 - Batch 610 [39040/60000 (65%)]\tLoss: 0.000267\n",
      "Train Epoch: 2 - Batch 620 [39680/60000 (66%)]\tLoss: 0.000270\n",
      "Train Epoch: 2 - Batch 630 [40320/60000 (67%)]\tLoss: 0.003459\n",
      "Train Epoch: 2 - Batch 640 [40960/60000 (68%)]\tLoss: 0.000368\n",
      "Train Epoch: 2 - Batch 650 [41600/60000 (69%)]\tLoss: 0.000098\n",
      "Train Epoch: 2 - Batch 660 [42240/60000 (70%)]\tLoss: 0.000109\n",
      "Train Epoch: 2 - Batch 670 [42880/60000 (71%)]\tLoss: 0.000228\n",
      "Train Epoch: 2 - Batch 680 [43520/60000 (72%)]\tLoss: 0.000581\n",
      "Train Epoch: 2 - Batch 690 [44160/60000 (74%)]\tLoss: 0.000175\n",
      "Train Epoch: 2 - Batch 700 [44800/60000 (75%)]\tLoss: 0.000672\n",
      "Train Epoch: 2 - Batch 710 [45440/60000 (76%)]\tLoss: 0.000132\n",
      "Train Epoch: 2 - Batch 720 [46080/60000 (77%)]\tLoss: 0.000085\n",
      "Train Epoch: 2 - Batch 730 [46720/60000 (78%)]\tLoss: 0.000163\n",
      "Train Epoch: 2 - Batch 740 [47360/60000 (79%)]\tLoss: 0.000665\n",
      "Train Epoch: 2 - Batch 750 [48000/60000 (80%)]\tLoss: 0.000057\n",
      "Train Epoch: 2 - Batch 760 [48640/60000 (81%)]\tLoss: 0.000059\n",
      "Train Epoch: 2 - Batch 770 [49280/60000 (82%)]\tLoss: 0.000399\n",
      "Train Epoch: 2 - Batch 780 [49920/60000 (83%)]\tLoss: 0.001532\n",
      "Train Epoch: 2 - Batch 790 [50560/60000 (84%)]\tLoss: 0.000230\n",
      "Train Epoch: 2 - Batch 800 [51200/60000 (85%)]\tLoss: 0.000607\n",
      "Train Epoch: 2 - Batch 810 [51840/60000 (86%)]\tLoss: 0.000409\n",
      "Train Epoch: 2 - Batch 820 [52480/60000 (87%)]\tLoss: 0.000348\n",
      "Train Epoch: 2 - Batch 830 [53120/60000 (88%)]\tLoss: 0.000493\n",
      "Train Epoch: 2 - Batch 840 [53760/60000 (90%)]\tLoss: 0.000283\n",
      "Train Epoch: 2 - Batch 850 [54400/60000 (91%)]\tLoss: 0.000246\n",
      "Train Epoch: 2 - Batch 860 [55040/60000 (92%)]\tLoss: 0.000219\n",
      "Train Epoch: 2 - Batch 870 [55680/60000 (93%)]\tLoss: 0.000315\n",
      "Train Epoch: 2 - Batch 880 [56320/60000 (94%)]\tLoss: 0.000245\n",
      "Train Epoch: 2 - Batch 890 [56960/60000 (95%)]\tLoss: 0.000991\n",
      "Train Epoch: 2 - Batch 900 [57600/60000 (96%)]\tLoss: 0.000407\n",
      "Train Epoch: 2 - Batch 910 [58240/60000 (97%)]\tLoss: 0.000157\n",
      "Train Epoch: 2 - Batch 920 [58880/60000 (98%)]\tLoss: 0.000326\n",
      "Train Epoch: 2 - Batch 930 [59520/60000 (99%)]\tLoss: 0.000218\n",
      "\n",
      "Test set: Avg. loss: 0.000079, Accuracy: 9773/10000 (98%)\n",
      "\n",
      "Train Epoch: 3 - Batch 0 [0/60000 (0%)]\tLoss: 0.000554\n",
      "Train Epoch: 3 - Batch 10 [640/60000 (1%)]\tLoss: 0.000077\n",
      "Train Epoch: 3 - Batch 20 [1280/60000 (2%)]\tLoss: 0.000293\n",
      "Train Epoch: 3 - Batch 30 [1920/60000 (3%)]\tLoss: 0.000294\n",
      "Train Epoch: 3 - Batch 40 [2560/60000 (4%)]\tLoss: 0.000302\n",
      "Train Epoch: 3 - Batch 50 [3200/60000 (5%)]\tLoss: 0.000074\n",
      "Train Epoch: 3 - Batch 60 [3840/60000 (6%)]\tLoss: 0.000174\n",
      "Train Epoch: 3 - Batch 70 [4480/60000 (7%)]\tLoss: 0.000229\n",
      "Train Epoch: 3 - Batch 80 [5120/60000 (9%)]\tLoss: 0.000349\n",
      "Train Epoch: 3 - Batch 90 [5760/60000 (10%)]\tLoss: 0.000345\n",
      "Train Epoch: 3 - Batch 100 [6400/60000 (11%)]\tLoss: 0.000268\n",
      "Train Epoch: 3 - Batch 110 [7040/60000 (12%)]\tLoss: 0.000221\n",
      "Train Epoch: 3 - Batch 120 [7680/60000 (13%)]\tLoss: 0.000132\n",
      "Train Epoch: 3 - Batch 130 [8320/60000 (14%)]\tLoss: 0.000860\n",
      "Train Epoch: 3 - Batch 140 [8960/60000 (15%)]\tLoss: 0.000178\n",
      "Train Epoch: 3 - Batch 150 [9600/60000 (16%)]\tLoss: 0.000323\n",
      "Train Epoch: 3 - Batch 160 [10240/60000 (17%)]\tLoss: 0.000333\n",
      "Train Epoch: 3 - Batch 170 [10880/60000 (18%)]\tLoss: 0.001957\n",
      "Train Epoch: 3 - Batch 180 [11520/60000 (19%)]\tLoss: 0.000255\n",
      "Train Epoch: 3 - Batch 190 [12160/60000 (20%)]\tLoss: 0.000707\n",
      "Train Epoch: 3 - Batch 200 [12800/60000 (21%)]\tLoss: 0.000260\n",
      "Train Epoch: 3 - Batch 210 [13440/60000 (22%)]\tLoss: 0.000336\n",
      "Train Epoch: 3 - Batch 220 [14080/60000 (23%)]\tLoss: 0.000120\n",
      "Train Epoch: 3 - Batch 230 [14720/60000 (25%)]\tLoss: 0.000337\n",
      "Train Epoch: 3 - Batch 240 [15360/60000 (26%)]\tLoss: 0.000027\n",
      "Train Epoch: 3 - Batch 250 [16000/60000 (27%)]\tLoss: 0.000117\n",
      "Train Epoch: 3 - Batch 260 [16640/60000 (28%)]\tLoss: 0.000199\n",
      "Train Epoch: 3 - Batch 270 [17280/60000 (29%)]\tLoss: 0.000086\n",
      "Train Epoch: 3 - Batch 280 [17920/60000 (30%)]\tLoss: 0.000187\n",
      "Train Epoch: 3 - Batch 290 [18560/60000 (31%)]\tLoss: 0.000537\n",
      "Train Epoch: 3 - Batch 300 [19200/60000 (32%)]\tLoss: 0.000334\n",
      "Train Epoch: 3 - Batch 310 [19840/60000 (33%)]\tLoss: 0.000187\n",
      "Train Epoch: 3 - Batch 320 [20480/60000 (34%)]\tLoss: 0.000171\n",
      "Train Epoch: 3 - Batch 330 [21120/60000 (35%)]\tLoss: 0.000272\n",
      "Train Epoch: 3 - Batch 340 [21760/60000 (36%)]\tLoss: 0.000224\n",
      "Train Epoch: 3 - Batch 350 [22400/60000 (37%)]\tLoss: 0.000324\n",
      "Train Epoch: 3 - Batch 360 [23040/60000 (38%)]\tLoss: 0.000194\n",
      "Train Epoch: 3 - Batch 370 [23680/60000 (39%)]\tLoss: 0.001754\n",
      "Train Epoch: 3 - Batch 380 [24320/60000 (41%)]\tLoss: 0.000188\n",
      "Train Epoch: 3 - Batch 390 [24960/60000 (42%)]\tLoss: 0.000366\n",
      "Train Epoch: 3 - Batch 400 [25600/60000 (43%)]\tLoss: 0.000144\n",
      "Train Epoch: 3 - Batch 410 [26240/60000 (44%)]\tLoss: 0.000129\n",
      "Train Epoch: 3 - Batch 420 [26880/60000 (45%)]\tLoss: 0.000176\n",
      "Train Epoch: 3 - Batch 430 [27520/60000 (46%)]\tLoss: 0.000159\n",
      "Train Epoch: 3 - Batch 440 [28160/60000 (47%)]\tLoss: 0.000463\n",
      "Train Epoch: 3 - Batch 450 [28800/60000 (48%)]\tLoss: 0.000282\n",
      "Train Epoch: 3 - Batch 460 [29440/60000 (49%)]\tLoss: 0.000054\n",
      "Train Epoch: 3 - Batch 470 [30080/60000 (50%)]\tLoss: 0.001195\n",
      "Train Epoch: 3 - Batch 480 [30720/60000 (51%)]\tLoss: 0.000452\n",
      "Train Epoch: 3 - Batch 490 [31360/60000 (52%)]\tLoss: 0.001429\n",
      "Train Epoch: 3 - Batch 500 [32000/60000 (53%)]\tLoss: 0.000204\n",
      "Train Epoch: 3 - Batch 510 [32640/60000 (54%)]\tLoss: 0.000091\n",
      "Train Epoch: 3 - Batch 520 [33280/60000 (55%)]\tLoss: 0.000508\n",
      "Train Epoch: 3 - Batch 530 [33920/60000 (57%)]\tLoss: 0.000068\n",
      "Train Epoch: 3 - Batch 540 [34560/60000 (58%)]\tLoss: 0.000306\n",
      "Train Epoch: 3 - Batch 550 [35200/60000 (59%)]\tLoss: 0.000231\n",
      "Train Epoch: 3 - Batch 560 [35840/60000 (60%)]\tLoss: 0.000388\n",
      "Train Epoch: 3 - Batch 570 [36480/60000 (61%)]\tLoss: 0.000332\n",
      "Train Epoch: 3 - Batch 580 [37120/60000 (62%)]\tLoss: 0.000873\n",
      "Train Epoch: 3 - Batch 590 [37760/60000 (63%)]\tLoss: 0.001672\n",
      "Train Epoch: 3 - Batch 600 [38400/60000 (64%)]\tLoss: 0.000141\n",
      "Train Epoch: 3 - Batch 610 [39040/60000 (65%)]\tLoss: 0.000069\n",
      "Train Epoch: 3 - Batch 620 [39680/60000 (66%)]\tLoss: 0.000181\n",
      "Train Epoch: 3 - Batch 630 [40320/60000 (67%)]\tLoss: 0.000319\n",
      "Train Epoch: 3 - Batch 640 [40960/60000 (68%)]\tLoss: 0.000045\n",
      "Train Epoch: 3 - Batch 650 [41600/60000 (69%)]\tLoss: 0.000734\n",
      "Train Epoch: 3 - Batch 660 [42240/60000 (70%)]\tLoss: 0.000122\n",
      "Train Epoch: 3 - Batch 670 [42880/60000 (71%)]\tLoss: 0.001128\n",
      "Train Epoch: 3 - Batch 680 [43520/60000 (72%)]\tLoss: 0.000358\n",
      "Train Epoch: 3 - Batch 690 [44160/60000 (74%)]\tLoss: 0.000712\n",
      "Train Epoch: 3 - Batch 700 [44800/60000 (75%)]\tLoss: 0.000417\n",
      "Train Epoch: 3 - Batch 710 [45440/60000 (76%)]\tLoss: 0.000134\n",
      "Train Epoch: 3 - Batch 720 [46080/60000 (77%)]\tLoss: 0.000539\n",
      "Train Epoch: 3 - Batch 730 [46720/60000 (78%)]\tLoss: 0.000380\n",
      "Train Epoch: 3 - Batch 740 [47360/60000 (79%)]\tLoss: 0.000041\n",
      "Train Epoch: 3 - Batch 750 [48000/60000 (80%)]\tLoss: 0.000058\n",
      "Train Epoch: 3 - Batch 760 [48640/60000 (81%)]\tLoss: 0.000304\n",
      "Train Epoch: 3 - Batch 770 [49280/60000 (82%)]\tLoss: 0.000180\n",
      "Train Epoch: 3 - Batch 780 [49920/60000 (83%)]\tLoss: 0.000435\n",
      "Train Epoch: 3 - Batch 790 [50560/60000 (84%)]\tLoss: 0.000564\n",
      "Train Epoch: 3 - Batch 800 [51200/60000 (85%)]\tLoss: 0.000242\n",
      "Train Epoch: 3 - Batch 810 [51840/60000 (86%)]\tLoss: 0.000290\n",
      "Train Epoch: 3 - Batch 820 [52480/60000 (87%)]\tLoss: 0.000355\n",
      "Train Epoch: 3 - Batch 830 [53120/60000 (88%)]\tLoss: 0.000274\n",
      "Train Epoch: 3 - Batch 840 [53760/60000 (90%)]\tLoss: 0.000032\n",
      "Train Epoch: 3 - Batch 850 [54400/60000 (91%)]\tLoss: 0.001021\n",
      "Train Epoch: 3 - Batch 860 [55040/60000 (92%)]\tLoss: 0.000148\n",
      "Train Epoch: 3 - Batch 870 [55680/60000 (93%)]\tLoss: 0.000110\n",
      "Train Epoch: 3 - Batch 880 [56320/60000 (94%)]\tLoss: 0.000040\n",
      "Train Epoch: 3 - Batch 890 [56960/60000 (95%)]\tLoss: 0.001038\n",
      "Train Epoch: 3 - Batch 900 [57600/60000 (96%)]\tLoss: 0.001198\n",
      "Train Epoch: 3 - Batch 910 [58240/60000 (97%)]\tLoss: 0.000695\n",
      "Train Epoch: 3 - Batch 920 [58880/60000 (98%)]\tLoss: 0.000035\n",
      "Train Epoch: 3 - Batch 930 [59520/60000 (99%)]\tLoss: 0.000207\n",
      "\n",
      "Test set: Avg. loss: 0.000080, Accuracy: 9770/10000 (98%)\n",
      "\n"
     ]
    }
   ],
   "source": [
    "train_losses = []\n",
    "train_counter = []\n",
    "test_losses = []\n",
    "test_counter = [i*len(train_loader.dataset) for i in range(n_epochs+1)]\n",
    "\n",
    "test()\n",
    "for epoch in range(1, n_epochs+1):\n",
    "    train(epoch)\n",
    "    test()"
   ]
  },
  {
   "cell_type": "code",
   "execution_count": 89,
   "metadata": {
    "colab": {
     "base_uri": "https://localhost:8080/"
    },
    "executionInfo": {
     "elapsed": 569,
     "status": "ok",
     "timestamp": 1602081792906,
     "user": {
      "displayName": "JUAN IGNACIO PORTA",
      "photoUrl": "",
      "userId": "13764368640408158815"
     },
     "user_tz": 180
    },
    "id": "AWyc7DcpeORM",
    "outputId": "61811ba5-5fe3-43f7-c012-ee90022e6143"
   },
   "outputs": [
    {
     "data": {
      "text/plain": [
       "net(\n",
       "  (linear1): Linear(in_features=784, out_features=100, bias=True)\n",
       "  (linear2): Linear(in_features=100, out_features=20, bias=True)\n",
       "  (linear3): Linear(in_features=20, out_features=10, bias=True)\n",
       "  (relu): ReLU()\n",
       "  (flatten): Flatten()\n",
       ")"
      ]
     },
     "execution_count": 89,
     "metadata": {},
     "output_type": "execute_result"
    }
   ],
   "source": [
    "network.eval()"
   ]
  },
  {
   "cell_type": "code",
   "execution_count": 29,
   "metadata": {
    "colab": {
     "base_uri": "https://localhost:8080/",
     "height": 282
    },
    "executionInfo": {
     "elapsed": 760,
     "status": "ok",
     "timestamp": 1602081794698,
     "user": {
      "displayName": "JUAN IGNACIO PORTA",
      "photoUrl": "",
      "userId": "13764368640408158815"
     },
     "user_tz": 180
    },
    "id": "uihY8XpleORR",
    "outputId": "6dc39e30-5154-4bde-cb04-63835ed3cc0a"
   },
   "outputs": [
    {
     "data": {
      "image/png": "[encoded data removed]",
      "text/plain": [
       "<Figure size 432x288 with 1 Axes>"
      ]
     },
     "metadata": {
      "needs_background": "light"
     },
     "output_type": "display_data"
    }
   ],
   "source": [
    "display_digit(mnist_test[20])"
   ]
  },
  {
   "cell_type": "code",
   "execution_count": 30,
   "metadata": {
    "colab": {
     "base_uri": "https://localhost:8080/"
    },
    "executionInfo": {
     "elapsed": 584,
     "status": "ok",
     "timestamp": 1602081797121,
     "user": {
      "displayName": "JUAN IGNACIO PORTA",
      "photoUrl": "",
      "userId": "13764368640408158815"
     },
     "user_tz": 180
    },
    "id": "VYK8IsANeORV",
    "outputId": "637f5cd2-7cc0-4bf2-ae33-d6b9ccbbfc52"
   },
   "outputs": [
    {
     "data": {
      "text/plain": [
       "tensor(9)"
      ]
     },
     "execution_count": 30,
     "metadata": {},
     "output_type": "execute_result"
    }
   ],
   "source": [
    "network(mnist_test[20][0].unsqueeze(0)).argmax()"
   ]
  },
  {
   "cell_type": "code",
   "execution_count": 95,
   "metadata": {
    "id": "FMBCExLveORY"
   },
   "outputs": [
    {
     "ename": "ValueError",
     "evalue": "cannot reshape array of size 44 into shape (14,3)",
     "output_type": "error",
     "traceback": [
      "\u001b[0;31m---------------------------------------------------------------------------\u001b[0m",
      "\u001b[0;31mValueError\u001b[0m                                Traceback (most recent call last)",
      "\u001b[0;32m<ipython-input-95-b288f09d211f>\u001b[0m in \u001b[0;36m<module>\u001b[0;34m\u001b[0m\n\u001b[1;32m     16\u001b[0m \u001b[0;34m\u001b[0m\u001b[0m\n\u001b[1;32m     17\u001b[0m     \u001b[0mX\u001b[0m \u001b[0;34m=\u001b[0m \u001b[0mrange\u001b[0m\u001b[0;34m(\u001b[0m\u001b[0;36m1\u001b[0m\u001b[0;34m,\u001b[0m \u001b[0mn_epochs\u001b[0m\u001b[0;34m+\u001b[0m\u001b[0;36m1\u001b[0m\u001b[0;34m)\u001b[0m\u001b[0;34m\u001b[0m\u001b[0;34m\u001b[0m\u001b[0m\n\u001b[0;32m---> 18\u001b[0;31m     \u001b[0mY\u001b[0m \u001b[0;34m=\u001b[0m \u001b[0mnp\u001b[0m\u001b[0;34m.\u001b[0m\u001b[0marray\u001b[0m\u001b[0;34m(\u001b[0m\u001b[0mlosses\u001b[0m\u001b[0;34m)\u001b[0m\u001b[0;34m.\u001b[0m\u001b[0mreshape\u001b[0m\u001b[0;34m(\u001b[0m\u001b[0;34m(\u001b[0m\u001b[0mlen\u001b[0m\u001b[0;34m(\u001b[0m\u001b[0mlosses\u001b[0m\u001b[0;34m)\u001b[0m\u001b[0;34m//\u001b[0m\u001b[0mn_epochs\u001b[0m\u001b[0;34m,\u001b[0m \u001b[0mn_epochs\u001b[0m\u001b[0;34m)\u001b[0m\u001b[0;34m)\u001b[0m\u001b[0;34m.\u001b[0m\u001b[0mmean\u001b[0m\u001b[0;34m(\u001b[0m\u001b[0maxis\u001b[0m\u001b[0;34m=\u001b[0m\u001b[0;36m0\u001b[0m\u001b[0;34m)\u001b[0m\u001b[0;34m\u001b[0m\u001b[0;34m\u001b[0m\u001b[0m\n\u001b[0m\u001b[1;32m     19\u001b[0m \u001b[0;34m\u001b[0m\u001b[0m\n\u001b[1;32m     20\u001b[0m     \u001b[0max\u001b[0m\u001b[0;34m.\u001b[0m\u001b[0mplot\u001b[0m\u001b[0;34m(\u001b[0m\u001b[0mX\u001b[0m\u001b[0;34m,\u001b[0m \u001b[0mY\u001b[0m\u001b[0;34m,\u001b[0m \u001b[0;34m'o-'\u001b[0m\u001b[0;34m,\u001b[0m \u001b[0mlabel\u001b[0m\u001b[0;34m=\u001b[0m\u001b[0mlabels\u001b[0m\u001b[0;34m[\u001b[0m\u001b[0mi\u001b[0m\u001b[0;34m]\u001b[0m\u001b[0;34m)\u001b[0m\u001b[0;34m\u001b[0m\u001b[0;34m\u001b[0m\u001b[0m\n",
      "\u001b[0;31mValueError\u001b[0m: cannot reshape array of size 44 into shape (14,3)"
     ]
    },
    {
     "data": {
      "image/png": "[encoded data removed]",
      "text/plain": [
       "<Figure size 432x288 with 1 Axes>"
      ]
     },
     "metadata": {
      "needs_background": "light"
     },
     "output_type": "display_data"
    }
   ],
   "source": [
    "ncols = 1\n",
    "nrows = 1\n",
    "fig, axes = plt.subplots(figsize=(6*ncols, 4*nrows), ncols=ncols, nrows=nrows)\n",
    "\n",
    "ax = axes\n",
    "labels = ['Train', 'Test']\n",
    "ax.set_ylabel('Loss')\n",
    "ax.set_xlabel('Epoch')\n",
    "\n",
    "#_train_loss = np.array(train_losses).reshape((len(train_losses)//(n_epochs, n_epochs)).mean(axis=0)\n",
    "#_test_loss  = np.array(test_losses).\n",
    "                                             \n",
    "#for losses in [train_losses, test_losses]:\n",
    "#for i, losses in enumerate([np.array(train_losses)/batch_size_train, test_losses]):\n",
    "for i, losses in enumerate([train_losses, test_losses]):\n",
    "\n",
    "    X = range(1, n_epochs+1)\n",
    "    Y = np.array(losses).reshape((len(losses)//n_epochs, n_epochs)).mean(axis=0)\n",
    "\n",
    "    ax.plot(X, Y, 'o-', label=labels[i])\n",
    "    \n",
    "ax.legend()\n",
    "plt.show()"
   ]
  },
  {
   "cell_type": "code",
   "execution_count": 84,
   "metadata": {},
   "outputs": [
    {
     "data": {
      "text/plain": [
       "17"
      ]
     },
     "execution_count": 84,
     "metadata": {},
     "output_type": "execute_result"
    }
   ],
   "source": [
    "len(test_losses)"
   ]
  },
  {
   "cell_type": "code",
   "execution_count": 56,
   "metadata": {},
   "outputs": [
    {
     "data": {
      "text/plain": [
       "564"
      ]
     },
     "execution_count": 56,
     "metadata": {},
     "output_type": "execute_result"
    }
   ],
   "source": [
    "len(train_losses)"
   ]
  },
  {
   "cell_type": "code",
   "execution_count": 57,
   "metadata": {},
   "outputs": [
    {
     "data": {
      "text/plain": [
       "564"
      ]
     },
     "execution_count": 57,
     "metadata": {},
     "output_type": "execute_result"
    }
   ],
   "source": [
    "len(train_losses)//n_epochs* n_epochs"
   ]
  },
  {
   "cell_type": "code",
   "execution_count": null,
   "metadata": {},
   "outputs": [],
   "source": []
  }
 ],
 "metadata": {
  "colab": {
   "name": "Copia de mnist_RNA.ipynb",
   "provenance": [
    {
     "file_id": "1qFvycTeR7bZu3vKvqeQf-n9cgZF2Yf-S",
     "timestamp": 1602082299746
    }
   ]
  },
  "kernelspec": {
   "display_name": "Python 3",
   "language": "python",
   "name": "python3"
  },
  "language_info": {
   "codemirror_mode": {
    "name": "ipython",
    "version": 3
   },
   "file_extension": ".py",
   "mimetype": "text/x-python",
   "name": "python",
   "nbconvert_exporter": "python",
   "pygments_lexer": "ipython3",
   "version": "3.8.3"
  }
 },
 "nbformat": 4,
 "nbformat_minor": 4
}
